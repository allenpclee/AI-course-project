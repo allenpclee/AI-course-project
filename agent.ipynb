{
 "cells": [
  {
   "cell_type": "raw",
   "metadata": {},
   "source": [
    "to do list\n",
    "- longest and shortest path\n",
    "- demostrate on 2nd graph\n",
    "- memorize shelf been visited"
   ]
  },
  {
   "cell_type": "code",
   "execution_count": 2,
   "metadata": {},
   "outputs": [],
   "source": [
    "import numpy as np"
   ]
  },
  {
   "cell_type": "code",
   "execution_count": 3,
   "metadata": {},
   "outputs": [],
   "source": [
    "maze = ((0,   0,  'D', 0,  0,  0),\n",
    "        (0,  'A',  0,  0, 'G', 0),\n",
    "        ('E', 0,  'B', 0, 'I', 0),\n",
    "        (0,  'C',  0,  0,  0,  0),\n",
    "        (0,   0,  'F', 0,  0, 'H'),\n",
    "        (0,   0,   0, 'J', 0,  0))\n",
    "\n",
    "item = ('A', 'B', 'C', 'D', 'E', 'F', 'G', 'H', 'I', 'J')\n"
   ]
  },
  {
   "cell_type": "code",
   "execution_count": 4,
   "metadata": {},
   "outputs": [],
   "source": [
    "\n",
    "def item_gen():\n",
    "    #fix result\n",
    "    #np.random.seed(5)\n",
    "\n",
    "    #amount of item should be 1~10\n",
    "    amt_item = np.random.randint(1, 11)\n",
    "    #amt_item = 1\n",
    "\n",
    "    order = []\n",
    "\n",
    "    #random generate order\n",
    "    for _ in range(amt_item):\n",
    "        while True:\n",
    "            #random generate item\n",
    "            rand_it = np.random.randint(0, 10)\n",
    "            if item[rand_it] in order:\n",
    "                rand_it = np.random.randint(0, 10)\n",
    "            else:\n",
    "                break\n",
    "        order.append(item[rand_it])\n",
    "    \n",
    "    #print(order)\n",
    "    return order"
   ]
  },
  {
   "cell_type": "code",
   "execution_count": 5,
   "metadata": {},
   "outputs": [],
   "source": [
    "\n",
    "def detect(x, y, s):    \n",
    "    if x >= 0 and y >= 0 and x<=5 and y<=5: #make sure inside the wall\n",
    "        roll = np.random.uniform(0, 1)\n",
    "\n",
    "        if maze[x][y] in order:\n",
    "            if (roll > .1): # sensor detects item\n",
    "                s['item'].append((x, y))\n",
    "            else: # sensor fails to detect item\n",
    "                s['empty'].append((x, y))\n",
    "        else:\n",
    "            if (roll > .1): #sensor detects it doesn't contain item\n",
    "                s['empty'].append((x, y))\n",
    "            else: # sensor fails\n",
    "                s['item'].append((x, y))\n",
    "\n",
    "def move(p, s):\n",
    "    if s['item']:\n",
    "        target = s['item'][np.random.randint(0, len(s['item']))]\n",
    "    else:\n",
    "        target = s['empty'][np.random.randint(0, len(s['empty']))]\n",
    "    #print(target)\n",
    "    return target\n",
    "    "
   ]
  },
  {
   "cell_type": "code",
   "execution_count": 6,
   "metadata": {},
   "outputs": [
    {
     "name": "stdout",
     "output_type": "stream",
     "text": [
      "........................................................................................................................................................................................................................................................................................................................................................................................................................................................................................................................................................................................................................................................................................................................................................................................................................................................................................................................................................................................................................................\n",
      "avg score -48.171\n"
     ]
    }
   ],
   "source": [
    "#initialize p position\n",
    "order = item_gen()\n",
    "#print(order)\n",
    "p = [0, 0]\n",
    "success = False\n",
    "episode = 0\n",
    "score = 0\n",
    "long_path = []\n",
    "short_path = []\n",
    "step = 0\n",
    "record=[]\n",
    "\n",
    "while True:\n",
    "    sensor = {'item':[], 'empty':[]}\n",
    "    \n",
    "    step+=1\n",
    "    \n",
    "    detect(p[0]-1, p[1],   sensor) #up\n",
    "    detect(p[0]+1, p[1],   sensor) #down\n",
    "    detect(p[0]  , p[1]-1, sensor) #left\n",
    "    detect(p[0]  , p[1]+1, sensor) #right\n",
    "    \n",
    "    x, y = move(p, sensor)\n",
    "    p = [x, y]\n",
    "    \n",
    "    if maze[p[0]][p[1]] in order:\n",
    "        order.remove(maze[p[0]][p[1]])\n",
    "        score +=3\n",
    "    else:\n",
    "        score -=1\n",
    "        \n",
    "    if not order:\n",
    "        #print('score', score)\n",
    "        print('.', end='')\n",
    "        \n",
    "        #initialize\n",
    "        record.append(score)\n",
    "        sensor = {'item':[], 'empty':[]}\n",
    "        order = item_gen()\n",
    "        score = 0\n",
    "        step = 0\n",
    "        episode +=1\n",
    "        \n",
    "        if episode == 1000:\n",
    "            break\n",
    "        #else:\n",
    "        #    print(order)\n",
    "\n",
    "print(\"\\navg score\", sum(record) / len(record))"
   ]
  },
  {
   "cell_type": "code",
   "execution_count": 7,
   "metadata": {},
   "outputs": [
    {
     "name": "stdout",
     "output_type": "stream",
     "text": [
      "1000\n"
     ]
    }
   ],
   "source": [
    "print(len(record))\n"
   ]
  },
  {
   "cell_type": "code",
   "execution_count": 11,
   "metadata": {},
   "outputs": [
    {
     "data": {
      "image/png": "[encoded data removed]",
      "text/plain": [
       "<Figure size 432x288 with 1 Axes>"
      ]
     },
     "metadata": {
      "needs_background": "light"
     },
     "output_type": "display_data"
    }
   ],
   "source": [
    "import matplotlib.pyplot as plt\n",
    "import math\n",
    "\n",
    "bins = int(math.log2(len(record))+1)\n",
    "\n",
    "plt.hist(record, bins=bins, edgecolor='black', alpha=.7)\n",
    "plt.show()"
   ]
  },
  {
   "cell_type": "code",
   "execution_count": null,
   "metadata": {},
   "outputs": [],
   "source": []
  }
 ],
 "metadata": {
  "kernelspec": {
   "display_name": "Python 3",
   "language": "python",
   "name": "python3"
  },
  "language_info": {
   "codemirror_mode": {
    "name": "ipython",
    "version": 3
   },
   "file_extension": ".py",
   "mimetype": "text/x-python",
   "name": "python",
   "nbconvert_exporter": "python",
   "pygments_lexer": "ipython3",
   "version": "3.9.1"
  }
 },
 "nbformat": 4,
 "nbformat_minor": 4
}
